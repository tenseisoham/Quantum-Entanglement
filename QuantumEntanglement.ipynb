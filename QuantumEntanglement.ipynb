{
 "cells": [
  {
   "cell_type": "markdown",
   "id": "9a8724fa-b6b8-4c11-b279-7be085853043",
   "metadata": {},
   "source": [
    "# Local Reality vs Bell's Inequality"
   ]
  },
  {
   "cell_type": "markdown",
   "id": "85015b81-846e-46b4-b4a5-c875d5f07c9a",
   "metadata": {},
   "source": [
    "_\"God does not play dice with the universe\"_, said Albert Einstein, to assert his disagreement in the opinion that the fundamental nature of reality could be probabilistic. In 1935, along with Rosen and Podolsky, he hypothesized that particles are preordained with their corresponding measurements at their inception, and hence, measuring the state of one particle does not cause the other particle to take up another state - these states are intrinsic to these particles. Einstein speaks of a _local universe_, where these particles can be seperated by distances so large, that interaction between them is not possible. This theory was aptly named the \"_hidden variables_\" theory, and many such hidden variable theories were conceptualised. However, these theories failed to explain randomness in single particles and relative measurements on different particles in a multi-particle system.\n",
    "\n",
    "John Bell, in his 1963 publication, argued that the destiny of particles is not decided at birth, and all theories hypothesizing this could be experimentally disproven.\n",
    "\n",
    "It is our effort, with tremendous help from [this Qiskit demo by IBM Quantum Labs](https://qiskit.org/textbook/ch-demos/chsh.html), to experimentally demonstrate the success of Bell's claim, and that the universe does follow the laws laid down by Quantum Mechanics."
   ]
  },
  {
   "cell_type": "markdown",
   "id": "fe8103c0-f0f8-4152-b4fa-025f009b7227",
   "metadata": {},
   "source": [
    "### Setting Up - The Locally Real Universe\n",
    "\n",
    "Our experiment is conducted by two friendly chaps named Alice and Bob, and their supervisor Viraj. Viraj hands Alice and Bob one qubit each - one half of a bipartite entangled system. Alice makes two measurements on her qubit - on bases A<sub>1</sub> and A<sub>2</sub>. Similarly, Bob makes his respective measurements on bases B<sub>1</sub> and B<sub>2</sub>.\n",
    "\n",
    "We define a quantity $\\langle S \\rangle$ as:\n",
    "\n",
    "$\\langle S \\rangle = \\langle A_1B_1 \\rangle - \\langle A_1B_2 \\rangle + \\langle A_2B_1 \\rangle + \\langle A_2B_2 \\rangle $\n",
    "\n",
    "We now proceed to calculate the expected value of $\\langle S \\rangle$.\n",
    "\n",
    "Since Alice and Bob are given a qubit each, any measurement performed on their system will only amount to +1 or -1. Although qubit states are typically referred to as $|0\\rangle$ and $|1\\rangle$, these are *eigenstates*, and a projective measurement will yield their *eigenvalues*, +1 and -1, respectively.\n",
    "\n",
    "Therefore, $A_1,A_2,B_1,B_2=\\pm1$,\n",
    "\n",
    "which further implies that $(B_1-B_2)$ and $(B_1+B_2)$ can either be $0$ or $\\pm2$.\n",
    "\n",
    "Hence, $A_1(B_1-B_2) + A_2(B_1+B_2)$ can only be either +2 or -2.\n",
    "\n",
    "Hence, $|\\langle S \\rangle| = |\\langle A_1B_1 \\rangle - \\langle A_1B_2 \\rangle + \\langle A_2B_1 \\rangle + \\langle A_2B_2 \\rangle| \\leq 2 $, i.e. the expected value of $|\\langle S \\rangle|$ is bound by $2$ in a *locally real universe*, as proposed by EPR.\n",
    "\n"
   ]
  },
  {
   "cell_type": "markdown",
   "id": "b9eb76eb-e7c0-4591-b73c-8759d3025bfe",
   "metadata": {},
   "source": [
    "### Experimenting with entangled particles \n",
    "\n",
    "The previous cell laid out what would be true were we living in a locally real world. Now, let us conduct the same experiment on two entangled particles to verify if the world we live in is truly local."
   ]
  },
  {
   "cell_type": "markdown",
   "id": "ad2b8058-991e-4f3f-88a7-3197bfceca9c",
   "metadata": {},
   "source": [
    "_Imports_"
   ]
  },
  {
   "cell_type": "code",
   "execution_count": 2,
   "id": "4295e152-e264-4dc7-a779-9ce4ad0ebcc4",
   "metadata": {},
   "outputs": [],
   "source": [
    "#for qiskit\n",
    "import qiskit\n",
    "from qiskit import QuantumCircuit, ClassicalRegister, QuantumRegister, transpile, Aer, IBMQ\n",
    "from qiskit.tools.visualization import circuit_drawer\n",
    "from qiskit.tools.monitor import job_monitor, backend_monitor, backend_overview\n",
    "from qiskit.providers.aer import noise\n",
    "\n",
    "#for python\n",
    "import matplotlib.pyplot as plt\n",
    "import numpy as np\n",
    "import time"
   ]
  },
  {
   "cell_type": "markdown",
   "id": "a97bee58-f6a1-4f01-b02f-58350dfeeacb",
   "metadata": {},
   "source": [
    "_Setting Up IBM Q Device and Simulator to run the experiment_"
   ]
  },
  {
   "cell_type": "code",
   "execution_count": 4,
   "id": "49fd1d51-3b97-48d4-85cb-d40e7efe7ee0",
   "metadata": {},
   "outputs": [
    {
     "name": "stderr",
     "output_type": "stream",
     "text": [
      "ibmqfactory.load_account:WARNING:2022-12-19 14:04:59,736: Credentials are already in use. The existing account in the session will be replaced.\n"
     ]
    }
   ],
   "source": [
    "#Setting up IBM Quantum Device\n",
    "IBMQ.load_account()\n",
    "provider = IBMQ.get_provider('ibm-q')\n",
    "quito = provider.get_backend('ibmq_quito')\n",
    "\n",
    "#Setting up simulator\n",
    "sim = Aer.get_backend('aer_simulator')"
   ]
  },
  {
   "cell_type": "markdown",
   "id": "b112ce29-674b-4738-8a86-0c9f3f221097",
   "metadata": {},
   "source": [
    "Running quantum experiments asks of us to create quantum circuits using qubits. We now definde a function to create these circuits for our experiment. \n",
    "\n",
    "For their respective measurements, Bob chooses to always use the $Z$ and $X$ bases in lieu of $B_1$ and $B_2$, whereas Alice chooses a set of orthogonal bases with an angle varying between $0$ and $2\\pi$ with respect to Bob's bases $Z$ and $X$. This set of angles, $\\theta$,  will be the argument for our circuit building function."
   ]
  },
  {
   "cell_type": "code",
   "execution_count": 14,
   "id": "00443f94-c0bf-458d-8cad-e2d7a02c9805",
   "metadata": {},
   "outputs": [],
   "source": [
    "def create_circuits(thetas):\n",
    "    \n",
    "    \"\"\"\n",
    "    Args: \n",
    "        thetas (list): list of angles between the bases of Alice and Bob\n",
    "    Returns:\n",
    "        List[QuantumCircuit]: A list of objects of class QuantumCircuit for each angle in thetas\n",
    "    \n",
    "    ********************\n",
    "\n",
    "    Gates used:\n",
    "    \n",
    "    The Hadamard Gate: The Hadamard gate (H-gate) is a fundamental quantum gate. It allows us to move away \n",
    "    from the poles of the Bloch sphere and create a superposition of |0⟩ and  |1⟩. This can be thought of as a rotation around the Bloch vector [1,0,1] \n",
    "    (the line between the x & z-axis), or as transforming the state of the qubit between the X and Z bases.\n",
    "    Used as qc.h()\n",
    "    \n",
    "    Source: https://qiskit.org/textbook/ch-states/single-qubit-gates.html#3.-The-Hadamard-Gate--\n",
    "    \n",
    "    The CNOT Gate: This gate is a conditional gate that performs an X-gate on the second qubit (target), \n",
    "    if the state of the first qubit (control) is  |1⟩. Used as qc.cx()\n",
    "    \n",
    "    Source: https://qiskit.org/textbook/ch-gates/multiple-qubits-entangled-states.html#3.1-The-CNOT-Gate-\n",
    "    \n",
    "    The RY Gate: Single qubit rotation about the y-axis.\n",
    "    Used as qc.ry()\n",
    "    Source: https://qiskit.org/documentation/stubs/qiskit.circuit.library.RYGate.html#rygate\n",
    " \n",
    "    \"\"\"\n",
    "    \n",
    "    circuits = []\n",
    "    \n",
    "    for theta in thetas:\n",
    "        observations = ['00', '01','10','11']\n",
    "        for observation in observations:\n",
    "            qc = QuantumCircuit(2,2)\n",
    "            qc.h(0) #hadamard gate on the 0th qubit\n",
    "            qc.cx(0, 1) #controlled-x gate on the 0th and the 1st qubits\n",
    "            qc.ry(theta, 0) #rotation about the y-axis\n",
    "            for i in range(2):\n",
    "                if observation[i] == '1':\n",
    "                    qc.h(i)\n",
    "            qc.measure(range(2), range(2))\n",
    "            circuits.append(qc)\n",
    "        \n",
    "    return circuits"
   ]
  },
  {
   "cell_type": "markdown",
   "id": "d218e6fe-c3af-4df3-8b8b-24bf2836101f",
   "metadata": {},
   "source": [
    "Now that we have a function to create qantum circuits, we split the interval $[0,2\\pi)$ into $n$ angles, say $25$, and build the corresponding set of circuits."
   ]
  },
  {
   "cell_type": "code",
   "execution_count": 16,
   "id": "7d448397-d18b-4648-9cf1-05ae70c02ab6",
   "metadata": {},
   "outputs": [
    {
     "name": "stdout",
     "output_type": "stream",
     "text": [
      "100\n"
     ]
    }
   ],
   "source": [
    "n_angles = 25\n",
    "thetas = np.linspace(0, 2*np.pi, n_angles)\n",
    "my_circuits = create_circuits(thetas)\n",
    "print(len(my_circuits))"
   ]
  },
  {
   "cell_type": "markdown",
   "id": "13694a74-91c4-4246-927f-5770a3931860",
   "metadata": {},
   "source": [
    "To understand what is going on, we can have a look at a few circuits created by the function <code>create_circuits()</code> for a given angle $\\theta$"
   ]
  },
  {
   "cell_type": "code",
   "execution_count": 17,
   "id": "729aabb5-204b-4728-97f7-228087467c53",
   "metadata": {},
   "outputs": [
    {
     "data": {
      "image/png": "[encoded data removed]",
      "text/plain": [
       "<Figure size 387.452x204.68 with 1 Axes>"
      ]
     },
     "execution_count": 17,
     "metadata": {},
     "output_type": "execute_result"
    }
   ],
   "source": [
    "my_circuits[5].draw()"
   ]
  },
  {
   "cell_type": "markdown",
   "id": "404e8bf2-63c4-4a14-ae6f-e0775cf46fa3",
   "metadata": {},
   "source": [
    "These circuits create a *Bell Pair*, and then measure what Alice and Bob would measure in a different basis. As noted previously, Bob always measures his qubit (*q1*) either in the $Z$ or the $X$ basis, whereas Alice's basis of measurement rotates by the angle $\\theta$ with respect to Bob's."
   ]
  },
  {
   "cell_type": "markdown",
   "id": "d33eac2d-3e3c-42c6-9af2-59642a15bb44",
   "metadata": {},
   "source": [
    "We now have a list of QuantumCircuits for various angles, $\\theta$, for our experiment, along with what Bob and Alice would measure on their respective bases. This implies that we now have all the sufficient information required to compute $\\langle S \\rangle$.\n",
    "\n",
    "$\\langle S \\rangle = \\langle A_1B_1 \\rangle - \\langle A_1B_2 \\rangle + \\langle A_2B_1 \\rangle + \\langle A_2B_2 \\rangle$ \n",
    "\n",
    "Once the corresponding measurement bases have been chosen for Alice and Bob (i.e. for each QuantumCircuit), all the required expectation values can be calculated by adding the counts from the output bitstrings with the appropriate signs ($+$ for $00$ and $11$, and $-$ for $01$ and $10$)\n"
   ]
  },
  {
   "cell_type": "markdown",
   "id": "756d4dc9-451f-4168-88f6-85569419e060",
   "metadata": {},
   "source": [
    "We now write a function to compute $\\langle S \\rangle$"
   ]
  },
  {
   "cell_type": "code",
   "execution_count": 24,
   "id": "a246a8b6-9bce-4bef-be01-c5071acd80d7",
   "metadata": {},
   "outputs": [],
   "source": [
    "def compute_s(counts):\n",
    "    \n",
    "    \"\"\"\n",
    "    This function computes expectation values for ⟨𝑆⟩ for each 𝜃 between\n",
    "    mesurement bases for Alice and Bob\n",
    "    \n",
    "        Args: \n",
    "            counts (list[dict]): dictionary of counts for each experiment\n",
    "            (4 counts per 𝜃 )\n",
    "        \n",
    "        Returns:\n",
    "            List: List of estimated values of ⟨𝑆⟩.\n",
    "    \n",
    "    \"\"\"\n",
    "    #Order is ZZ, ZX, XZ, XX\n",
    "    \n",
    "    S = []\n",
    "    \n",
    "    #Divide the list of dictionaries in sets of 4\n",
    "    for i in range(0, len(counts), 4):\n",
    "        theta_dict = counts[i:i + 4]\n",
    "        #print(\"Theta_dict = \", theta_dict)\n",
    "        zz = theta_dict[0]\n",
    "        zx = theta_dict[1]\n",
    "        xz = theta_dict[2]\n",
    "        xx = theta_dict[3]\n",
    "        \n",
    "        shots = sum(xx[y] for y in xx)\n",
    "        #print(\"Shots = \", shots)\n",
    "        \n",
    "        s = 0\n",
    "        \n",
    "        for element in zz:\n",
    "            parity = (-1)**(int(element[0])+int(element[1]))\n",
    "            s+=parity*zz[element]\n",
    "            \n",
    "        for element in zx:\n",
    "            parity = (-1)**(int(element[0])+int(element[1]))\n",
    "            s+=parity*zx[element]\n",
    "        \n",
    "        \n",
    "        for element in xz:\n",
    "            parity = (-1)**(int(element[0])+int(element[1]))\n",
    "            s-= parity*xz[element]\n",
    "            \n",
    "\n",
    "        for element in xx:\n",
    "            parity = (-1)**(int(element[0])+int(element[1]))\n",
    "            s+= parity*xx[element]\n",
    "            \n",
    "        S.append(s/shots)\n",
    "        \n",
    "    return S\n",
    "            \n",
    "            "
   ]
  },
  {
   "cell_type": "markdown",
   "id": "a1bc08f4-11e3-4656-a9eb-c7cf42787952",
   "metadata": {},
   "source": [
    "The function <code>compute_s</code> gives us a list of expected values of $\\langle S \\rangle$ for all measurements taken by Alice and Bob for their corresponding bases. Now, it is time to run this function on a quantum simulator, which would give us results that an idea quantum computer would, and on a real quantum machine, the results of which would be prone to some noise, but will give us a more realistic picture of what values $\\langle S \\rangle$ takes."
   ]
  },
  {
   "cell_type": "code",
   "execution_count": 29,
   "id": "e6d5c731-63a4-4d9b-8918-b447186e5a3c",
   "metadata": {},
   "outputs": [
    {
     "name": "stdout",
     "output_type": "stream",
     "text": [
      "Job Status: job has successfully run\n",
      "237.38212537765503\n"
     ]
    }
   ],
   "source": [
    "#Quantum Simulator - Ideal Values\n",
    "result_ideal = sim.run(my_circuits).result()\n",
    "\n",
    "#Real Quantum Computer\n",
    "tic = time.time()\n",
    "transpiled_circuits = transpile(my_circuits, quito)\n",
    "\"\"\"\n",
    "Transpilation is necessary to optimize the circuit \n",
    "for execution on present day noisy quantum systems.\n",
    "\"\"\"\n",
    "job_real = quito.run(transpiled_circuits, shots = 8192)\n",
    "job_monitor(job_real)\n",
    "result_real = job_real.result()\n",
    "toc = time.time()\n",
    "\n",
    "print(toc-tic)"
   ]
  },
  {
   "cell_type": "markdown",
   "id": "688a6869-8630-4f61-9fe4-719280de2e44",
   "metadata": {
    "tags": []
   },
   "source": [
    "This is the home stretch! Now, to visualise our results, we plot them."
   ]
  },
  {
   "cell_type": "code",
   "execution_count": 28,
   "id": "c7605dd1-4960-4a0f-be72-1fd20ed43eee",
   "metadata": {},
   "outputs": [],
   "source": [
    "S_ideal = compute_s(result_ideal.get_counts())\n",
    "S_real = compute_s(result_real.get_counts())"
   ]
  },
  {
   "cell_type": "code",
   "execution_count": 85,
   "id": "707fa5c2-9553-4f9d-9a10-34df5a18a733",
   "metadata": {},
   "outputs": [
    {
     "data": {
      "text/plain": [
       "Text(0, 0.5, '⟨S⟩')"
      ]
     },
     "execution_count": 85,
     "metadata": {},
     "output_type": "execute_result"
    },
    {
     "data": {
      "image/png": "[encoded data removed]",
      "text/plain": [
       "<Figure size 864x576 with 1 Axes>"
      ]
     },
     "metadata": {
      "needs_background": "light"
     },
     "output_type": "display_data"
    }
   ],
   "source": [
    "import matplotlib.ticker as tck\n",
    "\n",
    "\n",
    "fig, ax = plt.subplots(figsize=(12,8))\n",
    "plt.rcParams.update({'font.size': 22})\n",
    "ax.plot(thetas,S_ideal,'o-',label = '⟨S⟩ - Ideal (Noiseless)')\n",
    "\n",
    "ax.plot(thetas,S_real,'x-',label = '⟨S⟩ - Real (Noisy)')\n",
    "\n",
    "ax.grid(which='major',axis='both')\n",
    "plt.rcParams.update({'font.size': 16})\n",
    "plt.legend()\n",
    "\n",
    "# classical bound +2\n",
    "ax.axhline(y=2, color='r', linestyle='-')\n",
    "ax.axhline(y=-2, color='r', linestyle='-')\n",
    "\n",
    "# quantum bound, +2√2\n",
    "ax.axhline(y=np.sqrt(2)*2, color='b', linestyle='-.')\n",
    "ax.axhline(y=-np.sqrt(2)*2, color='b', linestyle='-.')\n",
    "\n",
    "# set x tick labels to the unit of pi\n",
    "ax.xaxis.set_major_formatter(tck.FormatStrFormatter('%g $\\pi$'))\n",
    "ax.xaxis.set_major_locator(tck.MultipleLocator(base=0.5))\n",
    "         \n",
    "\n",
    "ax.tick_params(axis='x', colors='red')    \n",
    "ax.tick_params(axis='y', colors='red')\n",
    "\n",
    "# set title, labels, and legend\n",
    "plt.title('Violation of CHSH Inequality', color='red')\n",
    "plt.xlabel('Angle', color='red')\n",
    "plt.ylabel('⟨S⟩', color='red')"
   ]
  },
  {
   "cell_type": "markdown",
   "id": "eef6db64-f98a-42e7-aacc-3d539f145d42",
   "metadata": {},
   "source": [
    "*Sheesh!*\n",
    "\n",
    "From the plot, we can clearly see that a few combinations of measurement bases for Alice and Bob result in $|\\langle S \\rangle| \\geq 2$. This directly contradicts our assumption that the universe in which the experiment was conducted is locally real.\n",
    "\n",
    "Let us examine this result further.\n",
    "\n",
    "Upon inspection of our entangled qubits, it can be shown that if $|\\Psi\\rangle = \\frac{1}{\\sqrt2}(|00\\rangle+|11\\rangle)$, then, $\\langle A_1B_1 \\rangle=-cos\\theta_{A_1B_1}$, where $\\theta_{A_1B_1}$ is the angle between measurement bases $A_1$ and $B_1$. \n",
    "\n",
    "Therefore, for the case when $A_1=\\frac{1}{\\sqrt2}(\\sigma_z-\\sigma_x)$ and $A_2=\\frac{1}{\\sqrt2}(\\sigma_z+\\sigma_x)$ (Alice's bases) and $B_1=\\sigma_z$ and $B_2=\\sigma_x$, $\\langle S \\rangle$ comes out to be $2\\sqrt2$, which is *greater* than $2$. \n",
    "\n",
    "We can also conclude that $2\\sqrt2$ is the maximum value attainable by $\\langle S \\rangle$ in a universe where the laws of Quantum Mechanics hold.\n",
    "\n"
   ]
  },
  {
   "cell_type": "markdown",
   "id": "e11aec11-fc4f-4bb3-af3b-b835203ef629",
   "metadata": {},
   "source": [
    "### So, what's the deal with $\\langle S \\rangle$?\n",
    "\n",
    "$|\\langle S \\rangle| = |\\langle A_1B_1 \\rangle - \\langle A_1B_2 \\rangle + \\langle A_2B_1 \\rangle + \\langle A_2B_2 \\rangle |\\leq 2 $ is a very famous inequality derived in 1969, named CHSH after Clauser, Horne, Shimony and Holt, the violation of which is a direct proof of *Bell's Theorem*. Experimental evidence of this inequality being violated is seen confirmation that that nature can not be described any hidden variable theory. [(*Wikipedia*)](https://en.wikipedia.org/wiki/CHSH_inequality). Hence, we come to conclude that Einstein was mistaken when he said that *God doesn't play dice with the universe.*"
   ]
  },
  {
   "cell_type": "markdown",
   "id": "fc9658cc-52f6-4fc9-a2e2-c8f594917317",
   "metadata": {},
   "source": [
    "*Not only does God play dice with the universe, but he sometimes also throws them where they cannot be seen.*"
   ]
  },
  {
   "cell_type": "markdown",
   "id": "79a3bee9-4960-4cc0-8d24-d0d8926ad48d",
   "metadata": {},
   "source": [
    "### References\n",
    "\n",
    "Córcoles, A. (n.d.), Local Reality and the CHSH Inequality. In A. Abbas, et al. Learn Quantum Computation Using Qiskit. URL: https://qiskit.org/textbook/ch-demos/chsh.html (accessed 12/20/2022) (2020).\n",
    "\n"
   ]
  },
  {
   "cell_type": "code",
   "execution_count": null,
   "id": "563aaf22-05d4-41c4-9df6-252222bb03a7",
   "metadata": {},
   "outputs": [],
   "source": []
  }
 ],
 "metadata": {
  "kernelspec": {
   "display_name": "Python 3 (ipykernel)",
   "language": "python",
   "name": "python3"
  },
  "language_info": {
   "codemirror_mode": {
    "name": "ipython",
    "version": 3
   },
   "file_extension": ".py",
   "mimetype": "text/x-python",
   "name": "python",
   "nbconvert_exporter": "python",
   "pygments_lexer": "ipython3",
   "version": "3.8.13"
  },
  "widgets": {
   "application/vnd.jupyter.widget-state+json": {
    "state": {},
    "version_major": 2,
    "version_minor": 0
   }
  }
 },
 "nbformat": 4,
 "nbformat_minor": 5
}
